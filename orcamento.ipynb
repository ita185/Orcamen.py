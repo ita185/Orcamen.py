{
 "cells": [
  {
   "cell_type": "markdown",
   "id": "847f6a56",
   "metadata": {},
   "source": [
    "# Orçamento Serviços de Eletricista"
   ]
  },
  {
   "cell_type": "code",
   "execution_count": 1,
   "id": "a0c68a32",
   "metadata": {},
   "outputs": [],
   "source": [
    "norcamento = input(\"Digite o numero do orçamento: \")"
   ]
  },
  {
   "cell_type": "code",
   "execution_count": 6,
   "id": "62f74cd6",
   "metadata": {},
   "outputs": [],
   "source": [
    "data = input(\"Data: \")\n",
    "cliente = input(\"Nome do cliente: \")\n",
    "serviço1 = input(\"Serviço 1: \")\n",
    "valor1 = input(\"Valor do serviço 1: \")\n",
    "servico2 = input(\"Serviço 2: \")\n",
    "valor2 = input(\"Valor do serviço 2: \")\n",
    "sevico3 = input(\"Serviço 3: \")\n",
    "valor3 = input(\"Valor do Serviço 3: \")\n",
    "total = int(valor1) + int(valor2) + int(valor3)"
   ]
  },
  {
   "cell_type": "code",
   "execution_count": 7,
   "id": "2ff446b3",
   "metadata": {},
   "outputs": [],
   "source": [
    "from fpdf import FPDF"
   ]
  },
  {
   "cell_type": "code",
   "execution_count": 8,
   "id": "37a233a2",
   "metadata": {},
   "outputs": [],
   "source": [
    "pdf = FPDF()\n",
    "pdf.add_page()\n",
    "pdf.set_font(\"Arial\")"
   ]
  },
  {
   "cell_type": "code",
   "execution_count": 9,
   "id": "9a6e25f7",
   "metadata": {},
   "outputs": [],
   "source": [
    "#adicionar template\n",
    "pdf.image(\"orcamento.png\",x=1, y=0, w=210, h=297)\n",
    "\n",
    "#adicionar dados no template\n",
    "pdf.text(170, 111, str(norcamento))\n",
    "pdf.text(155, 71, str(data))\n",
    "pdf.text(45, 105, cliente)\n",
    "pdf.text(60, 157, serviço1)\n",
    "pdf.text(172, 157, str(valor1))\n",
    "pdf.text(60, 180, servico2)\n",
    "pdf.text(172, 180, str(valor2))\n",
    "pdf.text(60, 202, sevico3)\n",
    "pdf.text(172, 202, str(valor3))\n",
    "pdf.text(172, 222, str(total))"
   ]
  },
  {
   "cell_type": "code",
   "execution_count": 10,
   "id": "5ae23387",
   "metadata": {},
   "outputs": [
    {
     "name": "stdout",
     "output_type": "stream",
     "text": [
      "Orçamento gerado com sucesso\n"
     ]
    }
   ],
   "source": [
    "pdf.output(f\"Orçamento {norcamento}.pdf\")\n",
    "print(\"Orçamento gerado com sucesso\")"
   ]
  },
  {
   "cell_type": "code",
   "execution_count": null,
   "id": "1697b8cd",
   "metadata": {},
   "outputs": [],
   "source": []
  },
  {
   "cell_type": "code",
   "execution_count": null,
   "id": "8072a3ab",
   "metadata": {},
   "outputs": [],
   "source": []
  }
 ],
 "metadata": {
  "kernelspec": {
   "display_name": "Python 3 (ipykernel)",
   "language": "python",
   "name": "python3"
  },
  "language_info": {
   "codemirror_mode": {
    "name": "ipython",
    "version": 3
   },
   "file_extension": ".py",
   "mimetype": "text/x-python",
   "name": "python",
   "nbconvert_exporter": "python",
   "pygments_lexer": "ipython3",
   "version": "3.10.9"
  }
 },
 "nbformat": 4,
 "nbformat_minor": 5
}
